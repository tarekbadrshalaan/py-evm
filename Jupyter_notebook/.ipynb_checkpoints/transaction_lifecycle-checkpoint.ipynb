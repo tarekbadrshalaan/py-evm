{
 "cells": [
  {
   "cell_type": "code",
   "execution_count": 12,
   "metadata": {},
   "outputs": [],
   "source": [
    "import json \n",
    "from evm.tools.fixture_tests import (\n",
    "    filter_fixtures,\n",
    "    generate_fixture_tests,\n",
    "    hash_log_entries,\n",
    "    load_fixture,\n",
    "    normalize_statetest_fixture,\n",
    "    should_run_slow_tests,\n",
    ")\n"
   ]
  },
  {
   "cell_type": "code",
   "execution_count": 15,
   "metadata": {
    "scrolled": true
   },
   "outputs": [
    {
     "data": {
      "text/plain": [
       "{'_info': {'comment': '',\n",
       "  'filledwith': 'cpp-1.3.0+commit.6e0ce939.Linux.g++',\n",
       "  'lllcversion': 'Version: 0.4.18-develop.2017.9.25+commit.a72237f2.Linux.g++',\n",
       "  'source': 'src/GeneralStateTestsFiller/stAttackTest/ContractCreationSpamFiller.json',\n",
       "  'sourceHash': '87301d69f555c6e24cd899f79edd0f7b3d11c395395cc77c63b8ebfb4f737452'},\n",
       " 'env': {'currentCoinbase': '0x2adc25665018aa1fe0e6bc666dac8fc2697ff9ba',\n",
       "  'currentDifficulty': '0x20000',\n",
       "  'currentGasLimit': '0x174876e800',\n",
       "  'currentNumber': '0x01',\n",
       "  'currentTimestamp': '0x03e8',\n",
       "  'previousHash': '0x5e20a0453cecd065ea59c37ac63e079ee08998b6045136a8ce6635c7912ec0b6'},\n",
       " 'post': {'EIP150': [{'hash': '0x7e7ff82e1c33ffbeb3dedb679498c9716f83c697f497d75aca467ae936b8ae45',\n",
       "    'indexes': {'data': 0, 'gas': 0, 'value': 0},\n",
       "    'logs': '0x1dcc4de8dec75d7aab85b567b6ccd41ad312451b948a7413f0a142fd40d49347'}]},\n",
       " 'pre': {'0x6a0a0fc761c612c340a0e98d33b37a75e5268472': {'balance': '0x0de0b6b3a7640000',\n",
       "   'code': '0x7f6004600c60003960046000f3600035ff00000000000000000000000000000000600052602060006000f0600054805b6001018060005260008060208180876006f1506001018060005260008060208180876006f1506001018060005260008060208180876006f1506001018060005260008060208180876006f1506001018060005260008060208180876006f1506001018060005260008060208180876006f1506001018060005260008060208180876006f1506001018060005260008060208180876006f1506001018060005260008060208180876006f1506001018060005260008060208180876006f1506001018060005260008060208180876006f1506001018060005260008060208180876006f1506001018060005260008060208180876006f1506001018060005260008060208180876006f1506001018060005260008060208180876006f1506001018060005260008060208180876006f1506001018060005260008060208180876006f1506001018060005260008060208180876006f1506001018060005260008060208180876006f1506001018060005260008060208180876006f1506001018060005260008060208180876006f1506001018060005260008060208180876006f1506001018060005260008060208180876006f1506001018060005260008060208180876006f1506001018060005260008060208180876006f1506001018060005260008060208180876006f1506001018060005260008060208180876006f1506001018060005260008060208180876006f1506001018060005260008060208180876006f1506001018060005260008060208180876006f1506001018060005260008060208180876006f1506001018060005260008060208180876006f1506001018060005260008060208180876006f1506001018060005260008060208180876006f1506001018060005260008060208180876006f1506001018060005260008060208180876006f1506001018060005260008060208180876006f1506001018060005260008060208180876006f1506001018060005260008060208180876006f1506001018060005260008060208180876006f1505a616000106200002f57600055',\n",
       "   'nonce': '0x00',\n",
       "   'storage': {}},\n",
       "  '0xa94f5374fce5edbc8e2a8697c15331677e6ebf0b': {'balance': '0xe8d4a51000',\n",
       "   'code': '',\n",
       "   'nonce': '0x00',\n",
       "   'storage': {}}},\n",
       " 'transaction': {'data': [''],\n",
       "  'gasLimit': ['0x0c3500'],\n",
       "  'gasPrice': '0x01',\n",
       "  'nonce': '0x00',\n",
       "  'secretKey': '0x45a915e4d060149eb4365960e6a7a45f334393093061116b197e3240065ff2d8',\n",
       "  'to': '0x6a0a0fc761c612C340a0e98d33b37a75e5268472',\n",
       "  'value': ['0x00']}}"
      ]
     },
     "execution_count": 15,
     "metadata": {},
     "output_type": "execute_result"
    }
   ],
   "source": [
    "transaction_string = '''{\n",
    "    \"ContractCreationSpam\" : {\n",
    "        \"_info\" : {\n",
    "            \"comment\" : \"\",\n",
    "            \"filledwith\" : \"cpp-1.3.0+commit.6e0ce939.Linux.g++\",\n",
    "            \"lllcversion\" : \"Version: 0.4.18-develop.2017.9.25+commit.a72237f2.Linux.g++\",\n",
    "            \"source\" : \"src/GeneralStateTestsFiller/stAttackTest/ContractCreationSpamFiller.json\",\n",
    "            \"sourceHash\" : \"87301d69f555c6e24cd899f79edd0f7b3d11c395395cc77c63b8ebfb4f737452\"\n",
    "        },\n",
    "        \"env\" : {\n",
    "            \"currentCoinbase\" : \"0x2adc25665018aa1fe0e6bc666dac8fc2697ff9ba\",\n",
    "            \"currentDifficulty\" : \"0x20000\",\n",
    "            \"currentGasLimit\" : \"0x174876e800\",\n",
    "            \"currentNumber\" : \"0x01\",\n",
    "            \"currentTimestamp\" : \"0x03e8\",\n",
    "            \"previousHash\" : \"0x5e20a0453cecd065ea59c37ac63e079ee08998b6045136a8ce6635c7912ec0b6\"\n",
    "        },\n",
    "        \"post\" : { \n",
    "            \"EIP150\" : [\n",
    "                {\n",
    "                    \"hash\" : \"0x7e7ff82e1c33ffbeb3dedb679498c9716f83c697f497d75aca467ae936b8ae45\",\n",
    "                    \"indexes\" : {\n",
    "                        \"data\" : 0,\n",
    "                        \"gas\" : 0,\n",
    "                        \"value\" : 0\n",
    "                    },\n",
    "                    \"logs\" : \"0x1dcc4de8dec75d7aab85b567b6ccd41ad312451b948a7413f0a142fd40d49347\"\n",
    "                }\n",
    "            ] \n",
    "        },\n",
    "        \"pre\" : {\n",
    "            \"0x6a0a0fc761c612c340a0e98d33b37a75e5268472\" : {\n",
    "                \"balance\" : \"0x0de0b6b3a7640000\",\n",
    "                \"code\" : \"0x7f6004600c60003960046000f3600035ff00000000000000000000000000000000600052602060006000f0600054805b6001018060005260008060208180876006f1506001018060005260008060208180876006f1506001018060005260008060208180876006f1506001018060005260008060208180876006f1506001018060005260008060208180876006f1506001018060005260008060208180876006f1506001018060005260008060208180876006f1506001018060005260008060208180876006f1506001018060005260008060208180876006f1506001018060005260008060208180876006f1506001018060005260008060208180876006f1506001018060005260008060208180876006f1506001018060005260008060208180876006f1506001018060005260008060208180876006f1506001018060005260008060208180876006f1506001018060005260008060208180876006f1506001018060005260008060208180876006f1506001018060005260008060208180876006f1506001018060005260008060208180876006f1506001018060005260008060208180876006f1506001018060005260008060208180876006f1506001018060005260008060208180876006f1506001018060005260008060208180876006f1506001018060005260008060208180876006f1506001018060005260008060208180876006f1506001018060005260008060208180876006f1506001018060005260008060208180876006f1506001018060005260008060208180876006f1506001018060005260008060208180876006f1506001018060005260008060208180876006f1506001018060005260008060208180876006f1506001018060005260008060208180876006f1506001018060005260008060208180876006f1506001018060005260008060208180876006f1506001018060005260008060208180876006f1506001018060005260008060208180876006f1506001018060005260008060208180876006f1506001018060005260008060208180876006f1506001018060005260008060208180876006f1506001018060005260008060208180876006f1505a616000106200002f57600055\",\n",
    "                \"nonce\" : \"0x00\",\n",
    "                \"storage\" : {\n",
    "                }\n",
    "            },\n",
    "            \"0xa94f5374fce5edbc8e2a8697c15331677e6ebf0b\" : {\n",
    "                \"balance\" : \"0xe8d4a51000\",\n",
    "                \"code\" : \"\",\n",
    "                \"nonce\" : \"0x00\",\n",
    "                \"storage\" : {\n",
    "                }\n",
    "            }\n",
    "        },\n",
    "        \"transaction\" : {\n",
    "            \"data\" : [\n",
    "                \"\"\n",
    "            ],\n",
    "            \"gasLimit\" : [\n",
    "                \"0x0c3500\"\n",
    "            ],\n",
    "            \"gasPrice\" : \"0x01\",\n",
    "            \"nonce\" : \"0x00\",\n",
    "            \"secretKey\" : \"0x45a915e4d060149eb4365960e6a7a45f334393093061116b197e3240065ff2d8\",\n",
    "            \"to\" : \"0x6a0a0fc761c612C340a0e98d33b37a75e5268472\",\n",
    "            \"value\" : [\n",
    "                \"0x00\"\n",
    "            ]\n",
    "        }\n",
    "    }\n",
    "}'''\n",
    "\n",
    "transaction_obj = json.loads(transaction_string)\n",
    "transaction_obj['ContractCreationSpam'] "
   ]
  },
  {
   "cell_type": "code",
   "execution_count": null,
   "metadata": {},
   "outputs": [],
   "source": [
    "def fixture(transaction_obj): \n",
    "    result = load_fixture(\n",
    "        fixture_path,\n",
    "        fixture_key,\n",
    "        normalize_statetest_fixture(fork=fixture_fork, post_state_index=post_state_index),\n",
    "    )\n",
    "    return result\n",
    "\n",
    "fixture_obj = fixture(transaction_obj)"
   ]
  },
  {
   "cell_type": "code",
   "execution_count": null,
   "metadata": {},
   "outputs": [],
   "source": [
    "normalize_statetest_fixture(fixture, \"EIP150\", 0)"
   ]
  },
  {
   "cell_type": "code",
   "execution_count": 6,
   "metadata": {},
   "outputs": [],
   "source": []
  },
  {
   "cell_type": "code",
   "execution_count": null,
   "metadata": {},
   "outputs": [],
   "source": []
  },
  {
   "cell_type": "code",
   "execution_count": null,
   "metadata": {},
   "outputs": [],
   "source": []
  },
  {
   "cell_type": "code",
   "execution_count": null,
   "metadata": {},
   "outputs": [],
   "source": []
  },
  {
   "cell_type": "code",
   "execution_count": null,
   "metadata": {},
   "outputs": [],
   "source": []
  },
  {
   "cell_type": "code",
   "execution_count": null,
   "metadata": {},
   "outputs": [],
   "source": []
  },
  {
   "cell_type": "code",
   "execution_count": null,
   "metadata": {},
   "outputs": [],
   "source": []
  },
  {
   "cell_type": "code",
   "execution_count": null,
   "metadata": {},
   "outputs": [],
   "source": []
  },
  {
   "cell_type": "code",
   "execution_count": null,
   "metadata": {},
   "outputs": [],
   "source": []
  }
 ],
 "metadata": {
  "kernelspec": {
   "display_name": "Python 3",
   "language": "python",
   "name": "python3"
  },
  "language_info": {
   "codemirror_mode": {
    "name": "ipython",
    "version": 3
   },
   "file_extension": ".py",
   "mimetype": "text/x-python",
   "name": "python",
   "nbconvert_exporter": "python",
   "pygments_lexer": "ipython3",
   "version": "3.6.4"
  }
 },
 "nbformat": 4,
 "nbformat_minor": 2
}
