{
 "cells": [
  {
   "cell_type": "code",
   "execution_count": 17,
   "metadata": {},
   "outputs": [],
   "source": [
    "import json  \n",
    "from pprint import pprint\n",
    "\n",
    "from evm.rlp.headers import (\n",
    "    BlockHeader,\n",
    "    CollationHeader,\n",
    ")\n",
    "\n",
    "from evm.db.chain import ChainDB \n",
    "from evm import db\n",
    " \n",
    "from evm.vm.forks.tangerine_whistle.vm_state import TangerineWhistleVMState  \n",
    "from evm.vm.forks import TangerineWhistleVM \n",
    "\n",
    "from evm.tools import fixture_tests \n",
    "from eth_keys import keys\n",
    "from evm.exceptions import ValidationError\n"
   ]
  },
  {
   "cell_type": "code",
   "execution_count": 18,
   "metadata": {
    "scrolled": true
   },
   "outputs": [],
   "source": [
    "transaction_string = '''\n",
    "{\n",
    "    \"env\" : \n",
    "    {\n",
    "        \"currentCoinbase\" : \"0x2adc25665018aa1fe0e6bc666dac8fc2697ff9ba\",\n",
    "        \"currentDifficulty\" : \"0x20000\",\n",
    "        \"currentGasLimit\" : \"0x174876e800\",\n",
    "        \"currentNumber\" : \"0x01\",\n",
    "        \"currentTimestamp\" : \"0x03e8\",\n",
    "        \"previousHash\" : \"0x5e20a0453cecd065ea59c37ac63e079ee08998b6045136a8ce6635c7912ec0b6\"\n",
    "    },\n",
    "    \"EIP150\" : {\n",
    "        \"hash\" : \"0x7e7ff82e1c33ffbeb3dedb679498c9716f83c697f497d75aca467ae936b8ae45\",\n",
    "        \"indexes\" : {\n",
    "            \"data\" : 0,\n",
    "            \"gas\" : 0,\n",
    "            \"value\" : 0\n",
    "        },\n",
    "        \"logs\" : \"0x1dcc4de8dec75d7aab85b567b6ccd41ad312451b948a7413f0a142fd40d49347\"\n",
    "    }, \n",
    "    \"pre\" : {\n",
    "    \"0xa94f5374fce5edbc8e2a8697c15331677e6ebf0b\" : {\n",
    "                \"balance\" : \"0xe8d4a51000\",\n",
    "                \"code\" : \"\",\n",
    "                \"nonce\" : \"0x00\",\n",
    "                \"storage\" : {\n",
    "                }\n",
    "            },\n",
    "            \"0x6a0a0fc761c612c340a0e98d33b37a75e5268472\" : {\n",
    "                \"balance\" : \"0x0de0b6b3a7640000\",\n",
    "                \"code\" : \"0x7f6004600c60003960046000f3600035ff00000000000000000000000000000000600052602060006000f0600054805b6001018060005260008060208180876006f1506001018060005260008060208180876006f1506001018060005260008060208180876006f1506001018060005260008060208180876006f1506001018060005260008060208180876006f1506001018060005260008060208180876006f1506001018060005260008060208180876006f1506001018060005260008060208180876006f1506001018060005260008060208180876006f1506001018060005260008060208180876006f1506001018060005260008060208180876006f1506001018060005260008060208180876006f1506001018060005260008060208180876006f1506001018060005260008060208180876006f1506001018060005260008060208180876006f1506001018060005260008060208180876006f1506001018060005260008060208180876006f1506001018060005260008060208180876006f1506001018060005260008060208180876006f1506001018060005260008060208180876006f1506001018060005260008060208180876006f1506001018060005260008060208180876006f1506001018060005260008060208180876006f1506001018060005260008060208180876006f1506001018060005260008060208180876006f1506001018060005260008060208180876006f1506001018060005260008060208180876006f1506001018060005260008060208180876006f1506001018060005260008060208180876006f1506001018060005260008060208180876006f1506001018060005260008060208180876006f1506001018060005260008060208180876006f1506001018060005260008060208180876006f1506001018060005260008060208180876006f1506001018060005260008060208180876006f1506001018060005260008060208180876006f1506001018060005260008060208180876006f1506001018060005260008060208180876006f1506001018060005260008060208180876006f1506001018060005260008060208180876006f1505a616000106200002f57600055\",\n",
    "                \"nonce\" : \"0x00\",\n",
    "                \"storage\" : {\n",
    "                }\n",
    "            }\n",
    "    },\n",
    "    \"transaction\" : {\n",
    "        \"data\" : [\n",
    "            \"\"\n",
    "        ],\n",
    "        \"gasLimit\" : [\n",
    "            \"0x0c3500\"\n",
    "        ],\n",
    "        \"gasPrice\" : \"0x01\",\n",
    "        \"nonce\" : \"0x00\",\n",
    "        \"secretKey\" : \"0x45a915e4d060149eb4365960e6a7a45f334393093061116b197e3240065ff2d8\",\n",
    "        \"to\" : \"0x6a0a0fc761c612C340a0e98d33b37a75e5268472\",\n",
    "        \"value\" : [\n",
    "            \"0x00\"\n",
    "        ]\n",
    "    }\n",
    "} \n",
    "'''\n",
    "\n",
    "transaction_obj = json.loads(transaction_string) "
   ]
  },
  {
   "cell_type": "code",
   "execution_count": 38,
   "metadata": {},
   "outputs": [
    {
     "data": {
      "text/plain": [
       "{'env': {'currentCoinbase': b'*\\xdc%fP\\x18\\xaa\\x1f\\xe0\\xe6\\xbcfm\\xac\\x8f\\xc2i\\x7f\\xf9\\xba',\n",
       "  'currentDifficulty': 131072,\n",
       "  'currentGasLimit': 100000000000,\n",
       "  'currentNumber': 1,\n",
       "  'currentTimestamp': 1000,\n",
       "  'previousHash': b'^ \\xa0E<\\xec\\xd0e\\xeaY\\xc3z\\xc6>\\x07\\x9e\\xe0\\x89\\x98\\xb6\\x04Q6\\xa8\\xcef5\\xc7\\x91.\\xc0\\xb6'},\n",
       " 'post': {'hash': b'~\\x7f\\xf8.\\x1c3\\xff\\xbe\\xb3\\xde\\xdbg\\x94\\x98\\xc9qo\\x83\\xc6\\x97\\xf4\\x97\\xd7Z\\xcaFz\\xe96\\xb8\\xaeE',\n",
       "  'logs': b'\\x1d\\xccM\\xe8\\xde\\xc7]z\\xab\\x85\\xb5g\\xb6\\xcc\\xd4\\x1a\\xd3\\x12E\\x1b\\x94\\x8at\\x13\\xf0\\xa1B\\xfd@\\xd4\\x93G'},\n",
       " 'pre': {b'j\\n\\x0f\\xc7a\\xc6\\x12\\xc3@\\xa0\\xe9\\x8d3\\xb3zu\\xe5&\\x84r': {'balance': 1000000000000000000,\n",
       "   'code': b'\\x7f`\\x04`\\x0c`\\x009`\\x04`\\x00\\xf3`\\x005\\xff\\x00\\x00\\x00\\x00\\x00\\x00\\x00\\x00\\x00\\x00\\x00\\x00\\x00\\x00\\x00\\x00`\\x00R` `\\x00`\\x00\\xf0`\\x00T\\x80[`\\x01\\x01\\x80`\\x00R`\\x00\\x80` \\x81\\x80\\x87`\\x06\\xf1P`\\x01\\x01\\x80`\\x00R`\\x00\\x80` \\x81\\x80\\x87`\\x06\\xf1P`\\x01\\x01\\x80`\\x00R`\\x00\\x80` \\x81\\x80\\x87`\\x06\\xf1P`\\x01\\x01\\x80`\\x00R`\\x00\\x80` \\x81\\x80\\x87`\\x06\\xf1P`\\x01\\x01\\x80`\\x00R`\\x00\\x80` \\x81\\x80\\x87`\\x06\\xf1P`\\x01\\x01\\x80`\\x00R`\\x00\\x80` \\x81\\x80\\x87`\\x06\\xf1P`\\x01\\x01\\x80`\\x00R`\\x00\\x80` \\x81\\x80\\x87`\\x06\\xf1P`\\x01\\x01\\x80`\\x00R`\\x00\\x80` \\x81\\x80\\x87`\\x06\\xf1P`\\x01\\x01\\x80`\\x00R`\\x00\\x80` \\x81\\x80\\x87`\\x06\\xf1P`\\x01\\x01\\x80`\\x00R`\\x00\\x80` \\x81\\x80\\x87`\\x06\\xf1P`\\x01\\x01\\x80`\\x00R`\\x00\\x80` \\x81\\x80\\x87`\\x06\\xf1P`\\x01\\x01\\x80`\\x00R`\\x00\\x80` \\x81\\x80\\x87`\\x06\\xf1P`\\x01\\x01\\x80`\\x00R`\\x00\\x80` \\x81\\x80\\x87`\\x06\\xf1P`\\x01\\x01\\x80`\\x00R`\\x00\\x80` \\x81\\x80\\x87`\\x06\\xf1P`\\x01\\x01\\x80`\\x00R`\\x00\\x80` \\x81\\x80\\x87`\\x06\\xf1P`\\x01\\x01\\x80`\\x00R`\\x00\\x80` \\x81\\x80\\x87`\\x06\\xf1P`\\x01\\x01\\x80`\\x00R`\\x00\\x80` \\x81\\x80\\x87`\\x06\\xf1P`\\x01\\x01\\x80`\\x00R`\\x00\\x80` \\x81\\x80\\x87`\\x06\\xf1P`\\x01\\x01\\x80`\\x00R`\\x00\\x80` \\x81\\x80\\x87`\\x06\\xf1P`\\x01\\x01\\x80`\\x00R`\\x00\\x80` \\x81\\x80\\x87`\\x06\\xf1P`\\x01\\x01\\x80`\\x00R`\\x00\\x80` \\x81\\x80\\x87`\\x06\\xf1P`\\x01\\x01\\x80`\\x00R`\\x00\\x80` \\x81\\x80\\x87`\\x06\\xf1P`\\x01\\x01\\x80`\\x00R`\\x00\\x80` \\x81\\x80\\x87`\\x06\\xf1P`\\x01\\x01\\x80`\\x00R`\\x00\\x80` \\x81\\x80\\x87`\\x06\\xf1P`\\x01\\x01\\x80`\\x00R`\\x00\\x80` \\x81\\x80\\x87`\\x06\\xf1P`\\x01\\x01\\x80`\\x00R`\\x00\\x80` \\x81\\x80\\x87`\\x06\\xf1P`\\x01\\x01\\x80`\\x00R`\\x00\\x80` \\x81\\x80\\x87`\\x06\\xf1P`\\x01\\x01\\x80`\\x00R`\\x00\\x80` \\x81\\x80\\x87`\\x06\\xf1P`\\x01\\x01\\x80`\\x00R`\\x00\\x80` \\x81\\x80\\x87`\\x06\\xf1P`\\x01\\x01\\x80`\\x00R`\\x00\\x80` \\x81\\x80\\x87`\\x06\\xf1P`\\x01\\x01\\x80`\\x00R`\\x00\\x80` \\x81\\x80\\x87`\\x06\\xf1P`\\x01\\x01\\x80`\\x00R`\\x00\\x80` \\x81\\x80\\x87`\\x06\\xf1P`\\x01\\x01\\x80`\\x00R`\\x00\\x80` \\x81\\x80\\x87`\\x06\\xf1P`\\x01\\x01\\x80`\\x00R`\\x00\\x80` \\x81\\x80\\x87`\\x06\\xf1P`\\x01\\x01\\x80`\\x00R`\\x00\\x80` \\x81\\x80\\x87`\\x06\\xf1P`\\x01\\x01\\x80`\\x00R`\\x00\\x80` \\x81\\x80\\x87`\\x06\\xf1P`\\x01\\x01\\x80`\\x00R`\\x00\\x80` \\x81\\x80\\x87`\\x06\\xf1P`\\x01\\x01\\x80`\\x00R`\\x00\\x80` \\x81\\x80\\x87`\\x06\\xf1P`\\x01\\x01\\x80`\\x00R`\\x00\\x80` \\x81\\x80\\x87`\\x06\\xf1P`\\x01\\x01\\x80`\\x00R`\\x00\\x80` \\x81\\x80\\x87`\\x06\\xf1PZa`\\x00\\x10b\\x00\\x00/W`\\x00U',\n",
       "   'nonce': 0,\n",
       "   'storage': {}},\n",
       "  b'\\xa9OSt\\xfc\\xe5\\xed\\xbc\\x8e*\\x86\\x97\\xc1S1g~n\\xbf\\x0b': {'balance': 1000000000000,\n",
       "   'code': b'',\n",
       "   'nonce': 0,\n",
       "   'storage': {}}},\n",
       " 'transaction': {'data': b'',\n",
       "  'gasLimit': 800000,\n",
       "  'gasPrice': 1,\n",
       "  'nonce': 0,\n",
       "  'secretKey': b'E\\xa9\\x15\\xe4\\xd0`\\x14\\x9e\\xb46Y`\\xe6\\xa7\\xa4_3C\\x93\\t0a\\x11k\\x19~2@\\x06_\\xf2\\xd8',\n",
       "  'to': b'j\\n\\x0f\\xc7a\\xc6\\x12\\xc3@\\xa0\\xe9\\x8d3\\xb3zu\\xe5&\\x84r',\n",
       "  'value': 0}}"
      ]
     },
     "execution_count": 38,
     "metadata": {},
     "output_type": "execute_result"
    }
   ],
   "source": [
    "def normalize_state(obj):  \n",
    "    normalized = {\n",
    "        'env': fixture_tests.normalize_environment(obj['env']),\n",
    "        'pre': fixture_tests.normalize_account_state(obj['pre']), \n",
    "        'post': fixture_tests.normalize_post_state(obj['EIP150']),\n",
    "        'transaction': fixture_tests.normalize_unsigned_transaction(obj['transaction'],obj[\"EIP150\"]['indexes'])\n",
    "    } \n",
    "    return normalized\n",
    "normalize_obj  = normalize_state(transaction_obj)\n",
    "normalize_obj"
   ]
  },
  {
   "cell_type": "code",
   "execution_count": 20,
   "metadata": {},
   "outputs": [],
   "source": [
    "def get_ancestor_block_hash(self, block_number):\n",
    "    if block_number >= self.block_number:\n",
    "        return b''\n",
    "    elif block_number < 0:\n",
    "        return b''\n",
    "    elif block_number < self.block_number - 256:\n",
    "        return b''\n",
    "    else:\n",
    "        return keccak(text=\"{0}\".format(block_number))\n",
    "\n",
    "def get_prev_hashes(self, last_block_hash, db):\n",
    "    return [] "
   ]
  },
  {
   "cell_type": "code",
   "execution_count": 21,
   "metadata": {},
   "outputs": [],
   "source": [
    "_tangerineWhistleVMState = TangerineWhistleVMState.configure(\n",
    "    get_ancestor_hash=get_ancestor_block_hash\n",
    ")"
   ]
  },
  {
   "cell_type": "code",
   "execution_count": 22,
   "metadata": {},
   "outputs": [],
   "source": [
    "_tangerineWhistleVM = TangerineWhistleVM.configure( \n",
    "    _state_class=_tangerineWhistleVMState,\n",
    "    get_prev_hashes=get_prev_hashes,\n",
    ")"
   ]
  },
  {
   "cell_type": "code",
   "execution_count": 23,
   "metadata": {},
   "outputs": [
    {
     "data": {
      "text/plain": [
       "<BlockHeader #1 e8682bfd>"
      ]
     },
     "execution_count": 23,
     "metadata": {},
     "output_type": "execute_result"
    }
   ],
   "source": [
    "header = BlockHeader(\n",
    "    coinbase=normalize_obj['env']['currentCoinbase'],\n",
    "    difficulty=normalize_obj['env']['currentDifficulty'],\n",
    "    block_number=normalize_obj['env']['currentNumber'],\n",
    "    gas_limit=normalize_obj['env']['currentGasLimit'],\n",
    "    timestamp=normalize_obj['env']['currentTimestamp'],\n",
    "    parent_hash=normalize_obj['env']['previousHash']\n",
    ")\n",
    "header"
   ]
  },
  {
   "cell_type": "code",
   "execution_count": 24,
   "metadata": {},
   "outputs": [],
   "source": [
    "chaindb = ChainDB(db.get_db_backend()) #defult memeory db"
   ]
  },
  {
   "cell_type": "code",
   "execution_count": 25,
   "metadata": {},
   "outputs": [],
   "source": [
    "vm = _tangerineWhistleVM(header=header, chaindb=chaindb)"
   ]
  },
  {
   "cell_type": "code",
   "execution_count": 26,
   "metadata": {},
   "outputs": [],
   "source": [
    "#fail\n",
    "# with vm.state.mutable_state_db() as state_db: \n",
    "#     state_db.apply_state_dict(normalize_obj['pre']) \n",
    "# vm.block.header.state_root = vm.state.state_root "
   ]
  },
  {
   "cell_type": "code",
   "execution_count": 27,
   "metadata": {},
   "outputs": [],
   "source": [
    "#work\n",
    "vm_state = vm.state\n",
    "with vm_state.mutable_state_db() as state_db: \n",
    "    state_db.apply_state_dict(normalize_obj['pre']) \n",
    "vm.block.header.state_root = vm_state.state_root"
   ]
  },
  {
   "cell_type": "code",
   "execution_count": 28,
   "metadata": {},
   "outputs": [],
   "source": [
    "unsigned_transaction = vm.create_unsigned_transaction(\n",
    "        nonce=normalize_obj['transaction']['nonce'],\n",
    "        gas_price=normalize_obj['transaction']['gasPrice'],\n",
    "        gas=normalize_obj['transaction']['gasLimit'],\n",
    "        to=normalize_obj['transaction']['to'],\n",
    "        value=normalize_obj['transaction']['value'],\n",
    "        data=normalize_obj['transaction']['data'],\n",
    "    ) "
   ]
  },
  {
   "cell_type": "code",
   "execution_count": 29,
   "metadata": {},
   "outputs": [],
   "source": [
    "private_key = keys.PrivateKey(normalize_obj['transaction']['secretKey']) \n",
    "transaction = unsigned_transaction.as_signed_transaction(private_key=private_key) "
   ]
  },
  {
   "cell_type": "code",
   "execution_count": 30,
   "metadata": {},
   "outputs": [],
   "source": [
    "try:\n",
    "    computation, _ = vm.apply_transaction(transaction) \n",
    "except ValidationError as transaction_error :\n",
    "    print(transaction_error)\n",
    "else:\n",
    "    transaction_error = False "
   ]
  },
  {
   "cell_type": "code",
   "execution_count": 40,
   "metadata": {},
   "outputs": [
    {
     "name": "stdout",
     "output_type": "stream",
     "text": [
      "b'~\\x7f\\xf8.\\x1c3\\xff\\xbe\\xb3\\xde\\xdbg\\x94\\x98\\xc9qo\\x83\\xc6\\x97\\xf4\\x97\\xd7Z\\xcaFz\\xe96\\xb8\\xaeE'\n",
      "b'~\\x7f\\xf8.\\x1c3\\xff\\xbe\\xb3\\xde\\xdbg\\x94\\x98\\xc9qo\\x83\\xc6\\x97\\xf4\\x97\\xd7Z\\xcaFz\\xe96\\xb8\\xaeE'\n",
      "True\n"
     ]
    }
   ],
   "source": [
    "print(vm.block.header.state_root)\n",
    "print(normalize_obj['post']['hash'])\n",
    "print(vm.block.header.state_root == normalize_obj['post']['hash']) "
   ]
  },
  {
   "cell_type": "code",
   "execution_count": null,
   "metadata": {},
   "outputs": [],
   "source": []
  },
  {
   "cell_type": "code",
   "execution_count": null,
   "metadata": {},
   "outputs": [],
   "source": []
  },
  {
   "cell_type": "code",
   "execution_count": null,
   "metadata": {},
   "outputs": [],
   "source": []
  },
  {
   "cell_type": "code",
   "execution_count": null,
   "metadata": {},
   "outputs": [],
   "source": []
  },
  {
   "cell_type": "code",
   "execution_count": null,
   "metadata": {},
   "outputs": [],
   "source": []
  },
  {
   "cell_type": "code",
   "execution_count": null,
   "metadata": {},
   "outputs": [],
   "source": []
  },
  {
   "cell_type": "code",
   "execution_count": null,
   "metadata": {},
   "outputs": [],
   "source": []
  },
  {
   "cell_type": "code",
   "execution_count": null,
   "metadata": {},
   "outputs": [],
   "source": []
  },
  {
   "cell_type": "code",
   "execution_count": null,
   "metadata": {},
   "outputs": [],
   "source": []
  },
  {
   "cell_type": "code",
   "execution_count": null,
   "metadata": {},
   "outputs": [],
   "source": []
  },
  {
   "cell_type": "code",
   "execution_count": null,
   "metadata": {},
   "outputs": [],
   "source": []
  }
 ],
 "metadata": {
  "kernelspec": {
   "display_name": "Python 3",
   "language": "python",
   "name": "python3"
  },
  "language_info": {
   "codemirror_mode": {
    "name": "ipython",
    "version": 3
   },
   "file_extension": ".py",
   "mimetype": "text/x-python",
   "name": "python",
   "nbconvert_exporter": "python",
   "pygments_lexer": "ipython3",
   "version": "3.6.4"
  }
 },
 "nbformat": 4,
 "nbformat_minor": 2
}
