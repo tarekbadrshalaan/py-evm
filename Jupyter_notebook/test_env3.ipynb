{
 "cells": [
  {
   "cell_type": "code",
   "execution_count": 1,
   "metadata": {},
   "outputs": [
    {
     "name": "stdout",
     "output_type": "stream",
     "text": [
      "set()\n",
      "set()\n"
     ]
    }
   ],
   "source": [
    "from evm import constants, Chain\n",
    "from evm.vm.forks.frontier import FrontierVM\n",
    "from evm.vm.forks.homestead import HomesteadVM\n",
    "from evm.chains.mainnet import HOMESTEAD_MAINNET_BLOCK "
   ]
  },
  {
   "cell_type": "code",
   "execution_count": 2,
   "metadata": {},
   "outputs": [],
   "source": [
    "chain_class = Chain.configure(\n",
    "  __name__='Test Chain',\n",
    "  vm_configuration=(\n",
    "      (constants.GENESIS_BLOCK_NUMBER, FrontierVM),\n",
    "      (HOMESTEAD_MAINNET_BLOCK, HomesteadVM),\n",
    "  ),\n",
    ")"
   ]
  },
  {
   "cell_type": "code",
   "execution_count": null,
   "metadata": {},
   "outputs": [],
   "source": []
  },
  {
   "cell_type": "code",
   "execution_count": 3,
   "metadata": {},
   "outputs": [
    {
     "name": "stdout",
     "output_type": "stream",
     "text": [
      "set()\n",
      "set()\n",
      "set()\n"
     ]
    }
   ],
   "source": [
    "from evm.db.backends.memory import MemoryDB\n",
    "from evm.db.chain import ChainDB\n",
    "from evm.chains.mainnet import MAINNET_GENESIS_HEADER\n",
    "\n",
    "# start a fresh in-memory db\n",
    "chaindb = ChainDB(MemoryDB())\n",
    "\n",
    "# initialize a fresh chain\n",
    "chain = chain_class.from_genesis_header(chaindb, MAINNET_GENESIS_HEADER)\n"
   ]
  },
  {
   "cell_type": "code",
   "execution_count": 4,
   "metadata": {},
   "outputs": [
    {
     "name": "stdout",
     "output_type": "stream",
     "text": [
      "set()\n"
     ]
    }
   ],
   "source": [
    "vm = chain.get_vm()"
   ]
  },
  {
   "cell_type": "code",
   "execution_count": 24,
   "metadata": {},
   "outputs": [
    {
     "data": {
      "text/plain": [
       "{'data': '',\n",
       " 'gasLimit': '0x5208',\n",
       " 'gasPrice': '0x01',\n",
       " 'nonce': '0x00',\n",
       " 'r': '0x01',\n",
       " 's': '0x1fffd310ac743f371de3b9f7f9cb56c0b28ad43601b4ab949f53faa07bd2c804',\n",
       " 'to': '0x095e7baea6a6c7c4c2dfeb977efac326af552d87',\n",
       " 'v': '0x1b',\n",
       " 'value': '0x0b'}"
      ]
     },
     "execution_count": 24,
     "metadata": {},
     "output_type": "execute_result"
    }
   ],
   "source": [
    "import json\n",
    "transaction_json = '''{\"transaction\":{\n",
    "            \"data\" : \"\",\n",
    "            \"gasLimit\" : \"0x5208\",\n",
    "            \"gasPrice\" : \"0x01\",\n",
    "            \"nonce\" : \"0x00\",\n",
    "            \"r\" : \"0x01\",\n",
    "            \"s\" : \"0x1fffd310ac743f371de3b9f7f9cb56c0b28ad43601b4ab949f53faa07bd2c804\",\n",
    "            \"to\" : \"0x095e7baea6a6c7c4c2dfeb977efac326af552d87\",\n",
    "            \"v\" : \"0x1b\",\n",
    "            \"value\" : \"0x0b\"\n",
    "        }}''' \n",
    "\n",
    "transaction_json = '''{\n",
    "            \"data\" : \"\",\n",
    "            \"gasLimit\" : \"0x5208\",\n",
    "            \"gasPrice\" : \"0x01\",\n",
    "            \"nonce\" : \"0x00\",\n",
    "            \"r\" : \"0x01\",\n",
    "            \"s\" : \"0x1fffd310ac743f371de3b9f7f9cb56c0b28ad43601b4ab949f53faa07bd2c804\",\n",
    "            \"to\" : \"0x095e7baea6a6c7c4c2dfeb977efac326af552d87\",\n",
    "            \"v\" : \"0x1b\",\n",
    "            \"value\" : \"0x0b\"\n",
    "            }''' \n",
    " \n",
    "transaction_obj = json.loads(transaction_json)\n",
    "transaction_obj"
   ]
  },
  {
   "cell_type": "code",
   "execution_count": 25,
   "metadata": {},
   "outputs": [
    {
     "name": "stdout",
     "output_type": "stream",
     "text": [
      "{'to', 'v', 'gas_price', 'gas', 'value', 's', 'data', 'r'}\n"
     ]
    },
    {
     "ename": "TypeError",
     "evalue": "Not all fields initialized",
     "output_type": "error",
     "traceback": [
      "\u001b[0;31m---------------------------------------------------------------------------\u001b[0m",
      "\u001b[0;31mTypeError\u001b[0m                                 Traceback (most recent call last)",
      "\u001b[0;32m<ipython-input-25-966620eb4be3>\u001b[0m in \u001b[0;36m<module>\u001b[0;34m()\u001b[0m\n\u001b[0;32m----> 1\u001b[0;31m \u001b[0mvm\u001b[0m\u001b[0;34m.\u001b[0m\u001b[0mcreate_transaction\u001b[0m\u001b[0;34m(\u001b[0m\u001b[0mtransaction_json\u001b[0m\u001b[0;34m)\u001b[0m\u001b[0;34m\u001b[0m\u001b[0m\n\u001b[0m",
      "\u001b[0;32m~/Software/Tiny Projects/ethereum_py-evm/py-evm/evm/vm/base.py\u001b[0m in \u001b[0;36mcreate_transaction\u001b[0;34m(self, *args, **kwargs)\u001b[0m\n\u001b[1;32m    333\u001b[0m         \u001b[0mProxy\u001b[0m \u001b[0;32mfor\u001b[0m \u001b[0minstantiating\u001b[0m \u001b[0ma\u001b[0m \u001b[0mtransaction\u001b[0m \u001b[0;32mfor\u001b[0m \u001b[0mthis\u001b[0m \u001b[0mVM\u001b[0m\u001b[0;34m.\u001b[0m\u001b[0;34m\u001b[0m\u001b[0m\n\u001b[1;32m    334\u001b[0m         \"\"\"\n\u001b[0;32m--> 335\u001b[0;31m         \u001b[0;32mreturn\u001b[0m \u001b[0mself\u001b[0m\u001b[0;34m.\u001b[0m\u001b[0mget_transaction_class\u001b[0m\u001b[0;34m(\u001b[0m\u001b[0;34m)\u001b[0m\u001b[0;34m(\u001b[0m\u001b[0;34m*\u001b[0m\u001b[0margs\u001b[0m\u001b[0;34m,\u001b[0m \u001b[0;34m**\u001b[0m\u001b[0mkwargs\u001b[0m\u001b[0;34m)\u001b[0m\u001b[0;34m\u001b[0m\u001b[0m\n\u001b[0m\u001b[1;32m    336\u001b[0m \u001b[0;34m\u001b[0m\u001b[0m\n\u001b[1;32m    337\u001b[0m     \u001b[0;32mdef\u001b[0m \u001b[0mcreate_unsigned_transaction\u001b[0m\u001b[0;34m(\u001b[0m\u001b[0mself\u001b[0m\u001b[0;34m,\u001b[0m \u001b[0;34m*\u001b[0m\u001b[0margs\u001b[0m\u001b[0;34m,\u001b[0m \u001b[0;34m**\u001b[0m\u001b[0mkwargs\u001b[0m\u001b[0;34m)\u001b[0m\u001b[0;34m:\u001b[0m\u001b[0;34m\u001b[0m\u001b[0m\n",
      "\u001b[0;32m~/.conda/envs/pyevm36/lib/python3.6/site-packages/rlp/sedes/lists.py\u001b[0m in \u001b[0;36m__init__\u001b[0;34m(self, *args, **kwargs)\u001b[0m\n\u001b[1;32m    179\u001b[0m         \u001b[0;32mif\u001b[0m \u001b[0mlen\u001b[0m\u001b[0;34m(\u001b[0m\u001b[0mfield_set\u001b[0m\u001b[0;34m)\u001b[0m \u001b[0;34m!=\u001b[0m \u001b[0;36m0\u001b[0m\u001b[0;34m:\u001b[0m\u001b[0;34m\u001b[0m\u001b[0m\n\u001b[1;32m    180\u001b[0m             \u001b[0;32mraise\u001b[0m \u001b[0mTypeError\u001b[0m\u001b[0;34m(\u001b[0m\u001b[0;34m'Not all fields initialized'\u001b[0m\u001b[0;34m)\u001b[0m\u001b[0;34m\u001b[0m\u001b[0m\n\u001b[0;32m--> 181\u001b[0;31m \u001b[0;34m\u001b[0m\u001b[0m\n\u001b[0m\u001b[1;32m    182\u001b[0m     \u001b[0;32mdef\u001b[0m \u001b[0m__setattr__\u001b[0m\u001b[0;34m(\u001b[0m\u001b[0mself\u001b[0m\u001b[0;34m,\u001b[0m \u001b[0mattr\u001b[0m\u001b[0;34m,\u001b[0m \u001b[0mvalue\u001b[0m\u001b[0;34m)\u001b[0m\u001b[0;34m:\u001b[0m\u001b[0;34m\u001b[0m\u001b[0m\n\u001b[1;32m    183\u001b[0m         \u001b[0;32mtry\u001b[0m\u001b[0;34m:\u001b[0m\u001b[0;34m\u001b[0m\u001b[0m\n",
      "\u001b[0;31mTypeError\u001b[0m: Not all fields initialized"
     ]
    }
   ],
   "source": [
    "vm.create_transaction(transaction_json)"
   ]
  },
  {
   "cell_type": "code",
   "execution_count": 5,
   "metadata": {},
   "outputs": [],
   "source": [
    "from evm.chains.mainnet import MAINNET_VM_CONFIGURATION, MAINNET_NETWORK_ID\n",
    "from p2p import ecies\n",
    "from p2p.lightchain import LightChain\n",
    "from p2p.peer import LESPeer, PeerPool"
   ]
  },
  {
   "cell_type": "code",
   "execution_count": 6,
   "metadata": {},
   "outputs": [],
   "source": [
    "\n",
    "DemoLightChain = LightChain.configure(\n",
    "    __name__='Demo LightChain',\n",
    "    vm_configuration=MAINNET_VM_CONFIGURATION,\n",
    "    network_id=MAINNET_NETWORK_ID,\n",
    ")\n"
   ]
  },
  {
   "cell_type": "code",
   "execution_count": null,
   "metadata": {},
   "outputs": [],
   "source": []
  },
  {
   "cell_type": "code",
   "execution_count": 3,
   "metadata": {},
   "outputs": [],
   "source": [
    "import asyncio\n",
    "from evm.db.backends.memory import MemoryDB\n",
    "from evm.db.chain import ChainDB\n",
    "from evm.chains.mainnet import MAINNET_NETWORK_ID,MAINNET_GENESIS_HEADER\n",
    "from p2p.discovery import DiscoveryProtocol"
   ]
  },
  {
   "cell_type": "code",
   "execution_count": 4,
   "metadata": {},
   "outputs": [],
   "source": [
    "# start a fresh in-memory db\n",
    "chaindb = ChainDB(MemoryDB())\n",
    "privkey = ecies.generate_privkey()\n",
    "discovery = DiscoveryProtocol(privkey,privkey.public_key.to_address(),[]) \n",
    "peer_pool = PeerPool(LESPeer, chaindb, MAINNET_NETWORK_ID, privkey,discovery)"
   ]
  },
  {
   "cell_type": "code",
   "execution_count": 5,
   "metadata": {},
   "outputs": [],
   "source": [
    "chain = DemoLightChain.from_genesis_header(chaindb, MAINNET_GENESIS_HEADER, peer_pool)\n",
    "# loop = asyncio.get_event_loop() \n",
    "# loop.run_until_complete(chain.run()) "
   ]
  },
  {
   "cell_type": "code",
   "execution_count": null,
   "metadata": {},
   "outputs": [],
   "source": []
  },
  {
   "cell_type": "code",
   "execution_count": 2,
   "metadata": {},
   "outputs": [],
   "source": [
    "from binascii import hexlify,unhexlify"
   ]
  },
  {
   "cell_type": "code",
   "execution_count": 5,
   "metadata": {},
   "outputs": [
    {
     "ename": "Error",
     "evalue": "Non-hexadecimal digit found",
     "output_type": "error",
     "traceback": [
      "\u001b[0;31m---------------------------------------------------------------------------\u001b[0m",
      "\u001b[0;31mError\u001b[0m                                     Traceback (most recent call last)",
      "\u001b[0;32m<ipython-input-5-94718fe1b13d>\u001b[0m in \u001b[0;36m<module>\u001b[0;34m()\u001b[0m\n\u001b[0;32m----> 1\u001b[0;31m \u001b[0munhexlify\u001b[0m\u001b[0;34m(\u001b[0m\u001b[0;34m'0x0c3500'\u001b[0m\u001b[0;34m)\u001b[0m\u001b[0;34m\u001b[0m\u001b[0m\n\u001b[0m",
      "\u001b[0;31mError\u001b[0m: Non-hexadecimal digit found"
     ]
    }
   ],
   "source": [
    "unhexlify('0x0c3500')"
   ]
  },
  {
   "cell_type": "code",
   "execution_count": 6,
   "metadata": {},
   "outputs": [],
   "source": [
    "import codecs"
   ]
  },
  {
   "cell_type": "code",
   "execution_count": 9,
   "metadata": {},
   "outputs": [
    {
     "data": {
      "text/plain": [
       "800000"
      ]
     },
     "execution_count": 9,
     "metadata": {},
     "output_type": "execute_result"
    }
   ],
   "source": [
    "codecs.decode('0c3500', 'hex')\n",
    "\n",
    "int('0c3500', 16)"
   ]
  },
  {
   "cell_type": "code",
   "execution_count": null,
   "metadata": {},
   "outputs": [],
   "source": [
    "codecs.decode(remove_0x_prefix(value), 'hex')"
   ]
  }
 ],
 "metadata": {
  "kernelspec": {
   "display_name": "Python 3",
   "language": "python",
   "name": "python3"
  },
  "language_info": {
   "codemirror_mode": {
    "name": "ipython",
    "version": 3
   },
   "file_extension": ".py",
   "mimetype": "text/x-python",
   "name": "python",
   "nbconvert_exporter": "python",
   "pygments_lexer": "ipython3",
   "version": "3.6.4"
  }
 },
 "nbformat": 4,
 "nbformat_minor": 2
}
